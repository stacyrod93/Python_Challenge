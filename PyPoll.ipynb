{
 "cells": [
  {
   "cell_type": "code",
   "execution_count": 1,
   "metadata": {},
   "outputs": [],
   "source": [
    "import csv\n",
    "import os"
   ]
  },
  {
   "cell_type": "code",
   "execution_count": 2,
   "metadata": {},
   "outputs": [],
   "source": [
    "data=os.path.join('Resources','election_data.csv')\n",
    "election_analysis=os.path.join('Analysis','election_analysis.txt')"
   ]
  },
  {
   "cell_type": "code",
   "execution_count": 3,
   "metadata": {},
   "outputs": [],
   "source": [
    "total_votes=0\n",
    "candidates=[]\n",
    "candidate_votes={}\n",
    "winner=\"\"\n",
    "winning_total=0"
   ]
  },
  {
   "cell_type": "code",
   "execution_count": 4,
   "metadata": {},
   "outputs": [],
   "source": [
    "with open(data) as election_data:\n",
    "    reader = csv.reader(election_data)\n",
    "\n",
    "    header = next(reader)\n",
    "\n",
    "    for row in reader:\n",
    "\n",
    "        total_votes = total_votes + 1\n",
    "        candidate_name = row[2]\n",
    "\n",
    "        if candidate_name not in candidates:\n",
    "            candidates.append(candidate_name)\n",
    "            candidate_votes[candidate_name] = 0\n",
    "\n",
    "            candidate_votes[candidate_name] = candidate_votes[candidate_name] + 1"
   ]
  },
  {
   "cell_type": "code",
   "execution_count": 5,
   "metadata": {},
   "outputs": [
    {
     "name": "stdout",
     "output_type": "stream",
     "text": [
      "\n",
      "\n",
      "Election Results\n",
      "-------------------------\n",
      "Total Votes: 3521001\n",
      "-------------------------\n",
      "Khan: 0.000% (1)\n",
      "-------------------------\n",
      "Winner: \n",
      "-------------------------\n",
      "\n",
      "Correy: 0.000% (1)\n",
      "-------------------------\n",
      "Winner: \n",
      "-------------------------\n",
      "\n",
      "Li: 0.000% (1)\n",
      "-------------------------\n",
      "Winner: \n",
      "-------------------------\n",
      "\n",
      "O'Tooley: 0.000% (1)\n",
      "-------------------------\n",
      "Winner: \n",
      "-------------------------\n",
      "\n"
     ]
    }
   ],
   "source": [
    "with open(election_analysis, \"w\") as txt_file:\n",
    "\n",
    "    results = (\n",
    "        f\"\\n\\nElection Results\\n\"\n",
    "        f\"-------------------------\\n\"\n",
    "        f\"Total Votes: {total_votes}\\n\"\n",
    "        f\"-------------------------\\n\")\n",
    "    print(results, end=\"\")\n",
    "\n",
    "    txt_file.write(results)\n",
    "\n",
    "    for candidate in candidate_votes:\n",
    "\n",
    "        votes = candidate_votes.get(candidate)\n",
    "        vote_percentage = float(votes) / float(total_votes) * 100\n",
    "\n",
    "        if (votes > winning_total):\n",
    "            winning_count = votes\n",
    "            winning_candidate = candidate\n",
    "\n",
    "        voter_output = f\"{candidate}: {vote_percentage:.3f}% ({votes})\\n\"\n",
    "        print(voter_output, end=\"\")\n",
    "        \n",
    "        \n",
    "        txt_file.write(voter_output)\n",
    "        \n",
    "        winning_summary = (\n",
    "        f\"-------------------------\\n\"\n",
    "        f\"Winner: {winner}\\n\"\n",
    "        f\"-------------------------\\n\")\n",
    "        print(winning_summary)\n",
    "\n",
    "    \n",
    "        txt_file.write(winning_summary)"
   ]
  },
  {
   "cell_type": "code",
   "execution_count": null,
   "metadata": {},
   "outputs": [],
   "source": []
  },
  {
   "cell_type": "code",
   "execution_count": null,
   "metadata": {},
   "outputs": [],
   "source": []
  }
 ],
 "metadata": {
  "kernelspec": {
   "display_name": "Python 3",
   "language": "python",
   "name": "python3"
  },
  "language_info": {
   "codemirror_mode": {
    "name": "ipython",
    "version": 3
   },
   "file_extension": ".py",
   "mimetype": "text/x-python",
   "name": "python",
   "nbconvert_exporter": "python",
   "pygments_lexer": "ipython3",
   "version": "3.7.4"
  }
 },
 "nbformat": 4,
 "nbformat_minor": 2
}
